{
 "cells": [
  {
   "cell_type": "code",
   "execution_count": 1,
   "metadata": {},
   "outputs": [],
   "source": [
    "import cv2\n",
    "import os\n",
    "import numpy as np\n",
    "import shutil \n",
    "import matplotlib.pyplot as plt\n",
    "import matplotlib.image as mpimg"
   ]
  },
  {
   "cell_type": "code",
   "execution_count": 2,
   "metadata": {},
   "outputs": [],
   "source": [
    "DATA_DIR = 'data/train'\n",
    "CROPPED_DIR = 'cropped/train'\n",
    "\n",
    "DATA_DIR_TEST = 'data/test'\n",
    "CROPPED_DIR_TEST = 'cropped/test'\n",
    "\n",
    "FINAL_TRAIN_DIR = 'Train_AB/train'\n",
    "FINAL_TEST_DIR = 'Train_AB/test'"
   ]
  },
  {
   "cell_type": "code",
   "execution_count": 16,
   "metadata": {},
   "outputs": [],
   "source": [
    "for i in (os.listdir(DATA_DIR)):\n",
    "    \n",
    "    if i.endswith('.jpg'):\n",
    "        \n",
    "        random = np.random.randint(low=75, high=150, size=2)\n",
    "        img = cv2.imread(os.path.join(DATA_DIR, i))\n",
    "        middle = img.shape[0]\n",
    "        middle2 = img.shape[2]\n",
    "        cropped = img.copy()\n",
    "        cropped[random[0]:random[0] + random[0], random[0]:random[1] + random[1]] = cropped[0,0]\n",
    "        cv2.imwrite(os.path.join(CROPPED_DIR, i), cropped)"
   ]
  },
  {
   "cell_type": "code",
   "execution_count": 19,
   "metadata": {},
   "outputs": [],
   "source": [
    "for i in (os.listdir(DATA_DIR_TEST)):\n",
    "    \n",
    "    if i.endswith('.jpg'):\n",
    "        \n",
    "        random = np.random.randint(low=75, high=150, size=2)\n",
    "        img = cv2.imread(os.path.join(DATA_DIR_TEST, i))\n",
    "        middle = img.shape[0]\n",
    "        middle2 = img.shape[2]\n",
    "        cropped = img.copy()\n",
    "        cropped[random[0]:random[0] + random[0], random[0]:random[1] + random[1]] = cropped[0,0]\n",
    "        cv2.imwrite(os.path.join(CROPPED_DIR_TEST, i), cropped)\n",
    "        break"
   ]
  },
  {
   "cell_type": "code",
   "execution_count": 6,
   "metadata": {},
   "outputs": [],
   "source": [
    "for i in (os.listdir(DATA_DIR)):\n",
    "\n",
    "    if i.endswith('.jpg'):\n",
    "        image1 = cv2.imread(os.path.join(DATA_DIR, i))\n",
    "        image2 = cv2.imread(os.path.join(CROPPED_DIR, i))\n",
    "        concat = np.concatenate([image1, image2], 1)\n",
    "        cv2.imwrite(os.path.join(FINAL_TRAIN_DIR, i), concat)\n"
   ]
  },
  {
   "cell_type": "code",
   "execution_count": 7,
   "metadata": {},
   "outputs": [],
   "source": [
    "for i in (os.listdir(DATA_DIR)):\n",
    "\n",
    "    if i.endswith('.jpg'):\n",
    "        image1 = cv2.imread(os.path.join(DATA_DIR, i))\n",
    "        image2 = cv2.imread(os.path.join(CROPPED_DIR, i))\n",
    "        concat = np.concatenate([image1, image2], 1)\n",
    "        cv2.imwrite(os.path.join(FINAL_TRAIN_DIR, i), concat)"
   ]
  },
  {
   "cell_type": "code",
   "execution_count": null,
   "metadata": {},
   "outputs": [],
   "source": []
  }
 ],
 "metadata": {
  "kernelspec": {
   "display_name": "Python 3",
   "language": "python",
   "name": "python3"
  },
  "language_info": {
   "codemirror_mode": {
    "name": "ipython",
    "version": 3
   },
   "file_extension": ".py",
   "mimetype": "text/x-python",
   "name": "python",
   "nbconvert_exporter": "python",
   "pygments_lexer": "ipython3",
   "version": "3.7.3"
  }
 },
 "nbformat": 4,
 "nbformat_minor": 2
}
