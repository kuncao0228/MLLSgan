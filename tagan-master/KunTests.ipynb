{
 "cells": [
  {
   "cell_type": "code",
   "execution_count": 2,
   "metadata": {},
   "outputs": [],
   "source": [
    "import torchfile\n",
    "stuff = torchfile.load('testLua.t7')"
   ]
  },
  {
   "cell_type": "code",
   "execution_count": 5,
   "metadata": {},
   "outputs": [
    {
     "name": "stdout",
     "output_type": "stream",
     "text": [
      "4\n"
     ]
    }
   ],
   "source": [
    "print(len(stuff))"
   ]
  },
  {
   "cell_type": "code",
   "execution_count": 9,
   "metadata": {},
   "outputs": [
    {
     "name": "stdout",
     "output_type": "stream",
     "text": [
      "<class 'torchfile.hashable_uniq_dict'>\n"
     ]
    }
   ],
   "source": [
    "print(type(stuff))"
   ]
  },
  {
   "cell_type": "code",
   "execution_count": 10,
   "metadata": {},
   "outputs": [
    {
     "name": "stdout",
     "output_type": "stream",
     "text": [
      "dict_keys([b'char', b'img', b'txt', b'word'])\n"
     ]
    }
   ],
   "source": [
    "print(stuff.keys())"
   ]
  },
  {
   "cell_type": "code",
   "execution_count": 16,
   "metadata": {},
   "outputs": [
    {
     "name": "stdout",
     "output_type": "stream",
     "text": [
      "201\n"
     ]
    }
   ],
   "source": [
    "print(len(stuff[b'char']))"
   ]
  },
  {
   "cell_type": "code",
   "execution_count": 12,
   "metadata": {},
   "outputs": [
    {
     "name": "stdout",
     "output_type": "stream",
     "text": [
      "b'200.Common_Yellowthroat/Common_Yellowthroat_0003_190521.jpg'\n"
     ]
    }
   ],
   "source": [
    "print(stuff[b'img'])"
   ]
  },
  {
   "cell_type": "code",
   "execution_count": 13,
   "metadata": {},
   "outputs": [
    {
     "name": "stdout",
     "output_type": "stream",
     "text": [
      "[[-0.01101654  0.09759229  0.25042242 ... -0.00908171 -0.10298953\n",
      "  -0.14841555]\n",
      " [ 0.03788846  0.15396076  0.24843012 ... -0.01262829 -0.14221469\n",
      "  -0.09645857]\n",
      " [-0.0799613   0.09306271  0.21497461 ... -0.15864302 -0.07864916\n",
      "  -0.06529416]\n",
      " ...\n",
      " [-0.1090035   0.07685643  0.07308854 ...  0.02289484 -0.0434717\n",
      "   0.03111868]\n",
      " [-0.12347542  0.02096439  0.11945663 ...  0.14311579 -0.0849299\n",
      "   0.09520009]\n",
      " [-0.04456629  0.06523666  0.19533658 ...  0.04894631 -0.09856632\n",
      "  -0.10051322]]\n"
     ]
    }
   ],
   "source": [
    "print(stuff[b'txt'])"
   ]
  },
  {
   "cell_type": "code",
   "execution_count": 15,
   "metadata": {},
   "outputs": [
    {
     "name": "stdout",
     "output_type": "stream",
     "text": [
      "[[ 30   1 146  30 146  30  52  30  30  30]\n",
      " [ 39 249   1   0 249 249   6 249 249 249]\n",
      " [150  95 249 146  95 189  45 189 189 189]\n",
      " [249  10 189   1   1 146  52 176 146 146]\n",
      " [189  39  10 249 226   1 249 164  55  10]\n",
      " [146 105  39  95  29  29   0  37   6  39]\n",
      " [ 26 131 208 146 138 170  55  55  82  49]\n",
      " [ 55   2 170  39  58 146 174 170 174 170]\n",
      " [ 81 146 177 208  39 153  52 189  82 146]\n",
      " [170 133  13 170 208  92 138 146 146 138]\n",
      " [138 168   1 242 170 104  58  39  39  58]\n",
      " [231 104   1   6 168  95   0  83 208   1]\n",
      " [170  20   1 170 105 146 194   1   1   1]\n",
      " [220 106   1 164   1  39  78   1   1   1]\n",
      " [  1 242   1   1   1 208   1   1   1   1]\n",
      " [  1  81   1   1   1 170   1   1   1   1]\n",
      " [  1 170   1   1   1 146   1   1   1   1]\n",
      " [  1 176   1   1   1  39   1   1   1   1]\n",
      " [  1  95   1   1   1 170   1   1   1   1]\n",
      " [  1 242   1   1   1 242   1   1   1   1]\n",
      " [  1  94   1   1   1 105   1   1   1   1]\n",
      " [  1 158   1   1   1   1   1   1   1   1]\n",
      " [  1   1   1   1   1   1   1   1   1   1]\n",
      " [  1   1   1   1   1   1   1   1   1   1]\n",
      " [  1   1   1   1   1   1   1   1   1   1]\n",
      " [  1   1   1   1   1   1   1   1   1   1]\n",
      " [  1   1   1   1   1   1   1   1   1   1]\n",
      " [  1   1   1   1   1   1   1   1   1   1]\n",
      " [  1   1   1   1   1   1   1   1   1   1]\n",
      " [  1   1   1   1   1   1   1   1   1   1]]\n"
     ]
    }
   ],
   "source": [
    "print(stuff[b'word'])"
   ]
  },
  {
   "cell_type": "code",
   "execution_count": 17,
   "metadata": {},
   "outputs": [],
   "source": [
    "alphabet = \"abcdefghijklmnopqrstuvwxyz0123456789-,;.!?:'\\\"/\\\\|_@#$%^&*~`+-=<>()[]{} \"\n",
    "\n",
    "def _nums2chars(self, nums):\n",
    "    chars = ''\n",
    "    for num in nums:\n",
    "        chars += self.alphabet[num - 1]\n",
    "    return chars"
   ]
  },
  {
   "cell_type": "code",
   "execution_count": null,
   "metadata": {},
   "outputs": [],
   "source": []
  }
 ],
 "metadata": {
  "kernelspec": {
   "display_name": "Python 3",
   "language": "python",
   "name": "python3"
  },
  "language_info": {
   "codemirror_mode": {
    "name": "ipython",
    "version": 3
   },
   "file_extension": ".py",
   "mimetype": "text/x-python",
   "name": "python",
   "nbconvert_exporter": "python",
   "pygments_lexer": "ipython3",
   "version": "3.7.3"
  }
 },
 "nbformat": 4,
 "nbformat_minor": 2
}
