{
 "cells": [
  {
   "cell_type": "code",
   "execution_count": 1,
   "metadata": {},
   "outputs": [],
   "source": [
    "import pandas as pd\n",
    "import numpy as np\n",
    "from numpy import genfromtxt\n",
    "\n",
    "# "
   ]
  },
  {
   "cell_type": "code",
   "execution_count": 2,
   "metadata": {},
   "outputs": [
    {
     "name": "stdout",
     "output_type": "stream",
     "text": [
      "black_footed_albatross_0046_18\n",
      "black_footed_albatross_0009_34\n",
      "black_footed_albatross_0002_55\n",
      "black_footed_albatross_0074_59\n",
      "black_footed_albatross_0014_89\n",
      "black_footed_albatross_0085_92\n",
      "black_footed_albatross_0031_100\n",
      "black_footed_albatross_0051_796103\n",
      "black_footed_albatross_0010_796097\n",
      "black_footed_albatross_0025_796057\n",
      "black_footed_albatross_0023_796059\n",
      "black_footed_albatross_0086_796062\n",
      "black_footed_albatross_0049_796063\n",
      "black_footed_albatross_0006_796065\n",
      "black_footed_albatross_0040_796066\n",
      "black_footed_albatross_0016_796067\n",
      "black_footed_albatross_0065_796068\n",
      "black_footed_albatross_0089_796069\n",
      "black_footed_albatross_0042_796071\n",
      "black_footed_albatross_0067_170\n",
      "black_footed_albatross_0060_796076\n",
      "black_footed_albatross_0090_796077\n",
      "black_footed_albatross_0056_796078\n",
      "black_footed_albatross_0061_796082\n",
      "black_footed_albatross_0008_796083\n",
      "black_footed_albatross_0033_796086\n",
      "black_footed_albatross_0024_796089\n",
      "black_footed_albatross_0005_796090\n",
      "black_footed_albatross_0026_796095\n",
      "black_footed_albatross_0080_796096\n",
      "black_footed_albatross_0047_796064\n",
      "black_footed_albatross_0017_796098\n",
      "black_footed_albatross_0064_796101\n",
      "black_footed_albatross_0076_417\n",
      "black_footed_albatross_0019_796104\n",
      "black_footed_albatross_0057_796106\n",
      "black_footed_albatross_0041_796108\n",
      "black_footed_albatross_0053_796109\n",
      "black_footed_albatross_0001_796111\n",
      "black_footed_albatross_0071_796113\n",
      "black_footed_albatross_0077_796114\n",
      "black_footed_albatross_0032_796115\n",
      "black_footed_albatross_0038_212\n",
      "black_footed_albatross_0037_796120\n",
      "black_footed_albatross_0082_796121\n",
      "black_footed_albatross_0079_796122\n",
      "black_footed_albatross_0050_796125\n",
      "black_footed_albatross_0078_796126\n",
      "black_footed_albatross_0036_796127\n",
      "black_footed_albatross_0045_796129\n",
      "black_footed_albatross_0039_796132\n",
      "black_footed_albatross_0088_796133\n",
      "black_footed_albatross_0068_796135\n",
      "black_footed_albatross_0003_796136\n",
      "black_footed_albatross_0007_796138\n",
      "black_footed_albatross_0069_796139\n",
      "black_footed_albatross_0035_796140\n",
      "black_footed_albatross_0063_796141\n",
      "black_footed_albatross_0058_796074\n",
      "black_footed_albatross_0081_426\n"
     ]
    }
   ],
   "source": [
    "dataframe = pd.read_csv('images.txt', header=None)\n",
    "dataframe.columns = ['keyFile']\n",
    "dfList = dataframe['keyFile']\n",
    "\n",
    "\n",
    "\n",
    "fileList = []\n",
    "for keyFile in dfList:\n",
    "    string = keyFile.split(\" \")\n",
    "\n",
    "    fileName = keyFile.split(\".\")\n",
    "    fileName = fileName[1].split('/')\n",
    "    fileList.append(fileName[1].lower())\n",
    "    \n",
    "for file in fileList:\n",
    "    if 'black_footed' in file:\n",
    "        print(file)\n",
    "\n",
    "\n",
    "\n",
    "\n"
   ]
  },
  {
   "cell_type": "code",
   "execution_count": 3,
   "metadata": {},
   "outputs": [
    {
     "name": "stdout",
     "output_type": "stream",
     "text": [
      "0\n"
     ]
    }
   ],
   "source": [
    "import numpy as np\n",
    "import os\n",
    "from os import listdir\n",
    "from os.path import isfile, join\n",
    "\n",
    "count = 0\n",
    "pathGrayScale = 'data/birds/gray_birds'\n",
    "for species in listdir(pathGrayScale):\n",
    "    if not species.startswith('.'):\n",
    "        speciesPath = join(pathGrayScale,species)\n",
    "        for birdFile in listdir(speciesPath):\n",
    "            fileName = birdFile.split('.')\n",
    "            fileName = fileName[0].lower() \n",
    "            \n",
    "            \n",
    "            if fileName not in fileList:\n",
    "                print(fileName)\n",
    "                count+=1\n",
    "    \n",
    "                \n",
    "\n",
    "\n",
    "print(count)\n",
    "\n"
   ]
  },
  {
   "cell_type": "code",
   "execution_count": null,
   "metadata": {},
   "outputs": [],
   "source": []
  }
 ],
 "metadata": {
  "kernelspec": {
   "display_name": "Python 3",
   "language": "python",
   "name": "python3"
  },
  "language_info": {
   "codemirror_mode": {
    "name": "ipython",
    "version": 3
   },
   "file_extension": ".py",
   "mimetype": "text/x-python",
   "name": "python",
   "nbconvert_exporter": "python",
   "pygments_lexer": "ipython3",
   "version": "3.7.3"
  }
 },
 "nbformat": 4,
 "nbformat_minor": 2
}
