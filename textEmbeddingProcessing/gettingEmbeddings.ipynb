{
 "cells": [
  {
   "cell_type": "code",
   "execution_count": 29,
   "metadata": {},
   "outputs": [],
   "source": [
    "import numpy as np\n",
    "import pandas as pd\n",
    "import spacy\n",
    "\n",
    "from scipy.spatial import distance\n"
   ]
  },
  {
   "cell_type": "code",
   "execution_count": 30,
   "metadata": {},
   "outputs": [],
   "source": [
    "attributes = pd.read_csv('attributes.txt', header = None)"
   ]
  },
  {
   "cell_type": "code",
   "execution_count": 31,
   "metadata": {},
   "outputs": [],
   "source": [
    "attributes.columns = ['attributes']\n",
    "attributeList = list(attributes['attributes'])\n",
    "\n",
    "attributeDict = dict()\n",
    "for element in attributeList:\n",
    "    index, attributeAndColor = element.split(\" \")\n",
    "    if '_color' in attributeAndColor:\n",
    "        name, color = attributeAndColor.split(\"::\")\n",
    "        word_vector = name.split(\"_\")\n",
    "        phrase = \"has \" + color + \" \"\n",
    "        for i in word_vector:\n",
    "            if \"has\" not in i:\n",
    "                phrase += str(i) + \" \"     \n",
    "        attributeDict[index] = phrase.strip()\n",
    "# #Build Primary Color Attribute Dictionary\n",
    "# attributeDict = dict()\n",
    "# for element in attributeList:\n",
    "#     index, attributeAndColor = element.split(\" \")\n",
    "# #     print(index)\n",
    "# #     print(attributeAndColor)\n",
    "#     if 'has_primary_color' in attributeAndColor:\n",
    "#         _, color = attributeAndColor.split(\"::\")\n",
    "#         attributeDict[index] = color"
   ]
  },
  {
   "cell_type": "code",
   "execution_count": 32,
   "metadata": {},
   "outputs": [],
   "source": [
    "imageMap = pd.read_csv('images.txt', header = None)\n",
    "imageMap.columns = ['images']\n",
    "\n",
    "imageList = list(imageMap['images'])\n",
    "imageDict = dict()\n",
    "for element in imageList:\n",
    "    index, imageName = element.split(\" \")\n",
    "    path, fileName = imageName.split(\"/\")\n",
    "    imageDict[index] = fileName\n"
   ]
  },
  {
   "cell_type": "code",
   "execution_count": 33,
   "metadata": {},
   "outputs": [],
   "source": [
    "imgAttributes = pd.read_csv('img_attr.csv')\n",
    "\n",
    "\n",
    "\n",
    "imgId = list(imgAttributes['img_id'])\n",
    "attrId = list(imgAttributes['attr_id'])\n",
    "\n",
    "\n",
    "imgDictionary = dict()\n",
    "count = 0\n",
    "for i in range(0, len(imgId)):\n",
    "    imageName = imageDict[str(imgId[i])]\n",
    "    color = attributeDict[str(attrId[i])]\n",
    "\n",
    "    if imageName not in imgDictionary.keys():\n",
    "        imgDictionary[imageName] = [\"This bird \" + color]\n",
    "    else:\n",
    "        if color not in imgDictionary[imageName]:\n",
    "            imgDictionary[imageName].append(\" and \" + color)"
   ]
  },
  {
   "cell_type": "code",
   "execution_count": 34,
   "metadata": {},
   "outputs": [],
   "source": [
    "nlp = spacy.load(\"en_core_web_lg\")"
   ]
  },
  {
   "cell_type": "code",
   "execution_count": 35,
   "metadata": {},
   "outputs": [
    {
     "name": "stdout",
     "output_type": "stream",
     "text": [
      "(300,)\n"
     ]
    }
   ],
   "source": [
    "text = nlp(\"blue\")\n",
    "temp = np.asarray(text.vector)\n",
    "\n",
    "\n",
    "\n",
    "\n",
    "input_word = \"frog\"\n",
    "p = np.array([nlp.vocab[input_word].vector])\n",
    "print(temp.shape)"
   ]
  },
  {
   "cell_type": "code",
   "execution_count": 36,
   "metadata": {},
   "outputs": [],
   "source": [
    "vectorDict = dict()\n",
    "\n",
    "setDictionary = list()\n",
    "\n",
    "\n",
    "\n",
    "for entry in imgDictionary:\n",
    "    colorArray = imgDictionary[entry]\n",
    "    \n",
    "    colorString = \"\"\n",
    "    if len(colorArray) > 1:\n",
    "        for color in colorArray:\n",
    "            colorString += color\n",
    "    else:\n",
    "        colorString = colorArray[0]\n",
    "    \n",
    "    colorString = colorString.strip()\n",
    "    \n",
    "    if colorString not in setDictionary:\n",
    "        setDictionary.append(colorString)\n",
    "\n",
    "#     print(entry)\n",
    "#     print(colorString)\n",
    "    vectorDict[entry] = [colorString, list(nlp(colorString).vector)]\n",
    "\n"
   ]
  },
  {
   "cell_type": "code",
   "execution_count": 37,
   "metadata": {},
   "outputs": [
    {
     "name": "stdout",
     "output_type": "stream",
     "text": [
      "11788\n",
      "11788\n",
      "438\n"
     ]
    }
   ],
   "source": [
    "print(len(imgDictionary.keys()))\n",
    "print(len(vectorDict.keys()))\n",
    "print(len(setDictionary))"
   ]
  },
  {
   "cell_type": "code",
   "execution_count": 38,
   "metadata": {},
   "outputs": [],
   "source": [
    "import pickle\n",
    "\n",
    "with open('FULL_ATTRIBUTES.pkl', 'wb') as output:\n",
    "    # Pickle dictionary using protocol 0.\n",
    "    pickle.dump(vectorDict, output)\n",
    "    \n"
   ]
  },
  {
   "cell_type": "code",
   "execution_count": 39,
   "metadata": {},
   "outputs": [
    {
     "name": "stdout",
     "output_type": "stream",
     "text": [
      "11788\n"
     ]
    }
   ],
   "source": [
    "# load data from pkl file\n",
    "loaded_data1 = None\n",
    "with open(\"FULL_ATTRIBUTES.pkl\", \"rb\") as fp:\n",
    "    loaded_data1 = pickle.load(fp)\n",
    "\n",
    "# print(type(loaded_data1))\n",
    "# print (loaded_data1)\n",
    "\n",
    "print(len(loaded_data1.keys()))"
   ]
  },
  {
   "cell_type": "code",
   "execution_count": null,
   "metadata": {},
   "outputs": [],
   "source": []
  }
 ],
 "metadata": {
  "kernelspec": {
   "display_name": "Python 3",
   "language": "python",
   "name": "python3"
  },
  "language_info": {
   "codemirror_mode": {
    "name": "ipython",
    "version": 3
   },
   "file_extension": ".py",
   "mimetype": "text/x-python",
   "name": "python",
   "nbconvert_exporter": "python",
   "pygments_lexer": "ipython3",
   "version": "3.7.3"
  }
 },
 "nbformat": 4,
 "nbformat_minor": 2
}
