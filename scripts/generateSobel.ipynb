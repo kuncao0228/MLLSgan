{
 "cells": [
  {
   "cell_type": "code",
   "execution_count": 24,
   "metadata": {},
   "outputs": [],
   "source": [
    "import cv2\n",
    "import numpy as np\n",
    "from matplotlib import pyplot as plt\n",
    "import os\n"
   ]
  },
  {
   "cell_type": "code",
   "execution_count": 29,
   "metadata": {},
   "outputs": [],
   "source": [
    "DATA_DIR = '../../data/low_variance_color'\n",
    "TEST_DIR = os.path.join(DATA_DIR, 'test')\n",
    "TRAIN_DIR = os.path.join(DATA_DIR, 'train')\n",
    "\n",
    "SOBEL_DIR = '../../data/sobel_low_variance'\n",
    "SOBEL_TEST_DIR = os.path.join(SOBEL_DIR, 'test')\n",
    "SOBEL_TRAIN_DIR = os.path.join(SOBEL_DIR, 'train')"
   ]
  },
  {
   "cell_type": "code",
   "execution_count": 36,
   "metadata": {},
   "outputs": [],
   "source": [
    "for bird in os.listdir(TEST_DIR):\n",
    "    source = os.path.join(TEST_DIR, bird)\n",
    "    dest = os.path.join(SOBEL_TEST_DIR,bird)\n",
    "    img = cv2.imread(source,0)\n",
    "    sobel = cv2.Sobel(img,cv2.CV_64F,1,0,ksize=3)\n",
    "    cv2.imwrite(dest,sobel)"
   ]
  },
  {
   "cell_type": "code",
   "execution_count": 35,
   "metadata": {},
   "outputs": [],
   "source": [
    "for bird in os.listdir(TRAIN_DIR):\n",
    "    \n",
    "    source = os.path.join(TRAIN_DIR, bird)\n",
    "    dest = os.path.join(SOBEL_TRAIN_DIR,bird)\n",
    "    img = cv2.imread(source,0)\n",
    "    sobel = cv2.Sobel(img,cv2.CV_64F,1,0,ksize=3)\n",
    "    cv2.imwrite(dest,sobel)"
   ]
  }
 ],
 "metadata": {
  "kernelspec": {
   "display_name": "CVpy3",
   "language": "python",
   "name": "dlwp"
  },
  "language_info": {
   "codemirror_mode": {
    "name": "ipython",
    "version": 3
   },
   "file_extension": ".py",
   "mimetype": "text/x-python",
   "name": "python",
   "nbconvert_exporter": "python",
   "pygments_lexer": "ipython3",
   "version": "3.6.9"
  }
 },
 "nbformat": 4,
 "nbformat_minor": 2
}
