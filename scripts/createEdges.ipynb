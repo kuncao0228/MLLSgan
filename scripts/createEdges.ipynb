{
 "cells": [
  {
   "cell_type": "code",
   "execution_count": 1,
   "metadata": {},
   "outputs": [],
   "source": [
    "import cv2 as cv\n",
    "import numpy as np\n",
    "from matplotlib import pyplot as plt\n",
    "import os\n",
    "from os import listdir\n",
    "from os.path import isfile, join\n",
    "import time\n",
    "from PIL import Image"
   ]
  },
  {
   "cell_type": "code",
   "execution_count": 2,
   "metadata": {},
   "outputs": [],
   "source": [
    "\n",
    "\n",
    "\n",
    "class CropLayer(object):\n",
    "    def __init__(self, params, blobs):\n",
    "        self.xstart = 0\n",
    "        self.xend = 0\n",
    "        self.ystart = 0\n",
    "        self.yend = 0\n",
    "\n",
    "    # Our layer receives two inputs. We need to crop the first input blob\n",
    "    # to match a shape of the second one (keeping batch size and number of channels)\n",
    "    def getMemoryShapes(self, inputs):\n",
    "        inputShape, targetShape = inputs[0], inputs[1]\n",
    "        batchSize, numChannels = inputShape[0], inputShape[1]\n",
    "        height, width = targetShape[2], targetShape[3]\n",
    "\n",
    "        self.ystart = (inputShape[2] - targetShape[2]) // 2\n",
    "        self.xstart = (inputShape[3] - targetShape[3]) // 2\n",
    "        self.yend = self.ystart + height\n",
    "        self.xend = self.xstart + width\n",
    "\n",
    "        return [[batchSize, numChannels, height, width]]\n",
    "\n",
    "    def forward(self, inputs):\n",
    "        return [inputs[0][:,:,self.ystart:self.yend,self.xstart:self.xend]]"
   ]
  },
  {
   "cell_type": "code",
   "execution_count": 6,
   "metadata": {},
   "outputs": [],
   "source": [
    "cv.dnn_registerLayer('Crop', CropLayer)\n",
    "\n",
    "# Load the model.\n",
    "net = cv.dnn.readNet('deploy.prototxt', 'hed_pretrained_bsds.caffemodel')"
   ]
  },
  {
   "cell_type": "code",
   "execution_count": 9,
   "metadata": {},
   "outputs": [
    {
     "ename": "FileNotFoundError",
     "evalue": "[Errno 2] No such file or directory: 'images'",
     "output_type": "error",
     "traceback": [
      "\u001b[0;31m---------------------------------------------------------------------------\u001b[0m",
      "\u001b[0;31mFileNotFoundError\u001b[0m                         Traceback (most recent call last)",
      "\u001b[0;32m<ipython-input-9-dae0f8aa1b9a>\u001b[0m in \u001b[0;36m<module>\u001b[0;34m\u001b[0m\n\u001b[1;32m      5\u001b[0m \u001b[0;34m\u001b[0m\u001b[0m\n\u001b[1;32m      6\u001b[0m \u001b[0mcount\u001b[0m \u001b[0;34m=\u001b[0m \u001b[0;36m1\u001b[0m\u001b[0;34m\u001b[0m\u001b[0;34m\u001b[0m\u001b[0m\n\u001b[0;32m----> 7\u001b[0;31m \u001b[0;32mfor\u001b[0m \u001b[0mspecies\u001b[0m \u001b[0;32min\u001b[0m \u001b[0mlistdir\u001b[0m\u001b[0;34m(\u001b[0m\u001b[0mmypath\u001b[0m\u001b[0;34m)\u001b[0m\u001b[0;34m:\u001b[0m\u001b[0;34m\u001b[0m\u001b[0;34m\u001b[0m\u001b[0m\n\u001b[0m\u001b[1;32m      8\u001b[0m \u001b[0;31m#     if os.path.isdir(birdfile):\u001b[0m\u001b[0;34m\u001b[0m\u001b[0;34m\u001b[0m\u001b[0;34m\u001b[0m\u001b[0m\n\u001b[1;32m      9\u001b[0m \u001b[0;31m#         print(true)\u001b[0m\u001b[0;34m\u001b[0m\u001b[0;34m\u001b[0m\u001b[0;34m\u001b[0m\u001b[0m\n",
      "\u001b[0;31mFileNotFoundError\u001b[0m: [Errno 2] No such file or directory: 'images'"
     ]
    }
   ],
   "source": [
    "mypath = 'images'\n",
    "pathEdgeBirds = 'edge_birds'\n",
    "if not os.path.exists(pathEdgeBirds):\n",
    "    os.makedirs(pathEdgeBirds)\n",
    "\n",
    "count = 1\n",
    "for species in listdir(mypath):\n",
    "#     if os.path.isdir(birdfile):\n",
    "#         print(true)\n",
    "    \n",
    "    if '.DS_Store' not in species and species not in processedImages:\n",
    "        print(species)\n",
    "        fullBirdPath = mypath + '/' + str(species)\n",
    "        \n",
    "\n",
    "        \n",
    "        for birdfile in listdir(fullBirdPath):\n",
    "            \n",
    "            if birdfile.endswith('.jpg'):\n",
    "                savePath = 'edge_birds/' + birdfile\n",
    "                imagePath = fullBirdPath + '/' + birdfile\n",
    "        \n",
    "                cap = cv.VideoCapture(imagePath)\n",
    "\n",
    "                hasFrame, frame = cap.read()\n",
    "\n",
    "\n",
    "                inp = cv.dnn.blobFromImage(frame, scalefactor=1.0, size=(500, 500),\n",
    "                               mean=(104.00698793, 116.66876762, 122.67891434),\n",
    "                               swapRB=False, crop=False)\n",
    "                net.setInput(inp)\n",
    "                out = net.forward()\n",
    "                out = out[0, 0]\n",
    "                out = cv.resize(out, (frame.shape[1], frame.shape[0]))\n",
    "                out = 255 * out\n",
    "                out = out.astype(np.uint8)\n",
    "                edges=cv.cvtColor(out,cv.COLOR_GRAY2BGR)\n",
    "\n",
    "        \n",
    "                edges = Image.fromarray(edges, 'RGB')\n",
    "                edges.save(savePath)\n",
    "        \n",
    "        \n",
    "#         os.system(script)\n",
    "\n"
   ]
  },
  {
   "cell_type": "code",
   "execution_count": 8,
   "metadata": {},
   "outputs": [
    {
     "name": "stdout",
     "output_type": "stream",
     "text": [
      "finished\n"
     ]
    }
   ],
   "source": [
    "print('finished')"
   ]
  },
  {
   "cell_type": "code",
   "execution_count": 10,
   "metadata": {},
   "outputs": [
    {
     "name": "stdout",
     "output_type": "stream",
     "text": [
      "11756\n"
     ]
    }
   ],
   "source": [
    "count = 0\n",
    "for species in listdir('edge_birds'):\n",
    "    count +=1\n",
    "print(count)\n",
    "    "
   ]
  },
  {
   "cell_type": "code",
   "execution_count": 3,
   "metadata": {},
   "outputs": [
    {
     "name": "stdout",
     "output_type": "stream",
     "text": [
      "HardBirds/epoch239_real_B.png\n",
      "edge_hardbirds/epoch239_real_B.png\n",
      "HardBirds/epoch247_real_B.png\n",
      "edge_hardbirds/epoch247_real_B.png\n",
      "HardBirds/epoch225_real_B.png\n",
      "edge_hardbirds/epoch225_real_B.png\n",
      "HardBirds/epoch005_real_B.png\n",
      "edge_hardbirds/epoch005_real_B.png\n",
      "HardBirds/epoch171_real_B.png\n",
      "edge_hardbirds/epoch171_real_B.png\n",
      "HardBirds/epoch122_real_B.png\n",
      "edge_hardbirds/epoch122_real_B.png\n",
      "HardBirds/epoch188_real_B.png\n",
      "edge_hardbirds/epoch188_real_B.png\n",
      "HardBirds/epoch214_real_B.png\n",
      "edge_hardbirds/epoch214_real_B.png\n"
     ]
    }
   ],
   "source": [
    "cv.dnn_registerLayer('Crop', CropLayer)\n",
    "\n",
    "# Load the model.\n",
    "net = cv.dnn.readNet('deploy.prototxt', 'hed_pretrained_bsds.caffemodel')\n",
    "\n",
    "mypath = 'HardBirds'\n",
    "pathEdgeBirds = 'edge_hardbirds'\n",
    "\n",
    "\n",
    "\n",
    "        \n",
    "for birdfile in listdir(mypath):\n",
    "            \n",
    "    if birdfile.endswith('.png'):\n",
    "        savePath = 'edge_hardbirds/' + birdfile\n",
    "        imagePath = mypath + '/' + birdfile\n",
    "        print(imagePath)\n",
    "        \n",
    "        cap = cv.VideoCapture(imagePath)\n",
    "\n",
    "        hasFrame, frame = cap.read()\n",
    "\n",
    "\n",
    "        inp = cv.dnn.blobFromImage(frame, scalefactor=1.0, size=(500, 500),\n",
    "                               mean=(104.00698793, 116.66876762, 122.67891434),\n",
    "                               swapRB=False, crop=False)\n",
    "        net.setInput(inp)\n",
    "        out = net.forward()\n",
    "        out = out[0, 0]\n",
    "        out = cv.resize(out, (frame.shape[1], frame.shape[0]))\n",
    "        out = 255 * out\n",
    "        out = out.astype(np.uint8)\n",
    "        edges=cv.cvtColor(out,cv.COLOR_GRAY2BGR)\n",
    "\n",
    "        \n",
    "        edges = Image.fromarray(edges, 'RGB')\n",
    "        print(savePath)\n",
    "        edges.save(savePath)\n",
    "        "
   ]
  },
  {
   "cell_type": "code",
   "execution_count": null,
   "metadata": {},
   "outputs": [],
   "source": []
  }
 ],
 "metadata": {
  "kernelspec": {
   "display_name": "Python 3",
   "language": "python",
   "name": "python3"
  },
  "language_info": {
   "codemirror_mode": {
    "name": "ipython",
    "version": 3
   },
   "file_extension": ".py",
   "mimetype": "text/x-python",
   "name": "python",
   "nbconvert_exporter": "python",
   "pygments_lexer": "ipython3",
   "version": "3.7.3"
  }
 },
 "nbformat": 4,
 "nbformat_minor": 2
}
