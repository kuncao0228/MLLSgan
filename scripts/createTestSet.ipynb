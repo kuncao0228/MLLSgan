{
 "cells": [
  {
   "cell_type": "code",
   "execution_count": 2,
   "metadata": {},
   "outputs": [],
   "source": [
    "import pandas as pd\n",
    "import numpy as np\n",
    "import os\n",
    "import shutil"
   ]
  },
  {
   "cell_type": "code",
   "execution_count": 16,
   "metadata": {},
   "outputs": [],
   "source": [
    "#Full Birds DIR\n",
    "DATA_DIR = '../../data/low_variance_color/'\n",
    "TEST_DIR = os.path.join(DATA_DIR, 'test')\n",
    "TRAIN_DIR = os.path.join(DATA_DIR, 'train')\n",
    "\n",
    "NO_SAMPLES = 25"
   ]
  },
  {
   "cell_type": "code",
   "execution_count": 7,
   "metadata": {},
   "outputs": [
    {
     "name": "stdout",
     "output_type": "stream",
     "text": [
      "666\n"
     ]
    }
   ],
   "source": [
    "print(len(os.listdir(DATA_DIR)))"
   ]
  },
  {
   "cell_type": "code",
   "execution_count": 8,
   "metadata": {},
   "outputs": [],
   "source": [
    "randIndexList = np.random.choice( len(os.listdir(DATA_DIR))-2, NO_SAMPLES)"
   ]
  },
  {
   "cell_type": "code",
   "execution_count": 9,
   "metadata": {},
   "outputs": [
    {
     "name": "stdout",
     "output_type": "stream",
     "text": [
      "[348 131 358 404 152 597  78 497 175 192  49 366 592 216 535 581 613 474\n",
      " 656 161 464  63 512 449 396]\n"
     ]
    }
   ],
   "source": [
    "print(randIndexList)"
   ]
  },
  {
   "cell_type": "code",
   "execution_count": 10,
   "metadata": {},
   "outputs": [],
   "source": [
    "randImagesArray = np.asarray(os.listdir(DATA_DIR))[randIndexList]"
   ]
  },
  {
   "cell_type": "code",
   "execution_count": 11,
   "metadata": {},
   "outputs": [],
   "source": [
    "if not os.path.exists(TEST_DIR):\n",
    "    os.mkdir(TEST_DIR)"
   ]
  },
  {
   "cell_type": "code",
   "execution_count": 12,
   "metadata": {},
   "outputs": [],
   "source": [
    "for i in randImagesArray:\n",
    "    relativeImagePath = os.path.join(DATA_DIR, i)\n",
    "    destPath = os.path.join(TEST_DIR, i)\n",
    "    shutil.move(relativeImagePath, destPath)"
   ]
  },
  {
   "cell_type": "code",
   "execution_count": 14,
   "metadata": {},
   "outputs": [],
   "source": [
    "train_list = np.asarray(os.listdir(DATA_DIR))\n",
    "test_list = np.asarray(os.listdir(TEST_DIR))"
   ]
  },
  {
   "cell_type": "code",
   "execution_count": 19,
   "metadata": {},
   "outputs": [],
   "source": [
    "pd.DataFrame(test_list).to_csv(os.path.join(DATA_DIR, 'test_image_names.txt'))\n",
    "pd.DataFrame(train_list).to_csv(os.path.join(DATA_DIR, 'train_image_names.txt'))"
   ]
  },
  {
   "cell_type": "code",
   "execution_count": null,
   "metadata": {},
   "outputs": [],
   "source": []
  }
 ],
 "metadata": {
  "kernelspec": {
   "display_name": "CVpy3",
   "language": "python",
   "name": "dlwp"
  },
  "language_info": {
   "codemirror_mode": {
    "name": "ipython",
    "version": 3
   },
   "file_extension": ".py",
   "mimetype": "text/x-python",
   "name": "python",
   "nbconvert_exporter": "python",
   "pygments_lexer": "ipython3",
   "version": "3.6.9"
  }
 },
 "nbformat": 4,
 "nbformat_minor": 2
}
