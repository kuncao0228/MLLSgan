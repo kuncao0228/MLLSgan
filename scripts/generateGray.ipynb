{
 "cells": [
  {
   "cell_type": "code",
   "execution_count": 5,
   "metadata": {},
   "outputs": [],
   "source": [
    "import cv2\n",
    "import numpy as np\n",
    "from matplotlib import pyplot as plt\n",
    "import os"
   ]
  },
  {
   "cell_type": "code",
   "execution_count": 21,
   "metadata": {},
   "outputs": [],
   "source": [
    "DATA_DIR = '../../data/low_variance_color'\n",
    "TEST_DIR = os.path.join(DATA_DIR, 'test')\n",
    "TRAIN_DIR = os.path.join(DATA_DIR, 'train')\n",
    "\n",
    "GRAY_DIR = '../../data/gray_low_variance'\n",
    "GRAY_TEST_DIR = os.path.join(GRAY_DIR, 'test')\n",
    "GRAY_TRAIN_DIR = os.path.join(GRAY_DIR, 'train')"
   ]
  },
  {
   "cell_type": "code",
   "execution_count": 15,
   "metadata": {},
   "outputs": [],
   "source": [
    "for bird in os.listdir(TEST_DIR):\n",
    "    source = os.path.join(TEST_DIR, bird)\n",
    "    dest = os.path.join(GRAY_TEST_DIR,bird)\n",
    "    img = cv2.imread(source,0)\n",
    "    cv2.imwrite(dest,img)"
   ]
  },
  {
   "cell_type": "code",
   "execution_count": 17,
   "metadata": {},
   "outputs": [],
   "source": [
    "for bird in os.listdir(TRAIN_DIR):\n",
    "    \n",
    "    source = os.path.join(TRAIN_DIR, bird)\n",
    "    dest = os.path.join(GRAY_TRAIN_DIR,bird)\n",
    "    img = cv2.imread(source,0)\n",
    "    cv2.imwrite(dest,img)"
   ]
  },
  {
   "cell_type": "code",
   "execution_count": 24,
   "metadata": {},
   "outputs": [
    {
     "name": "stdout",
     "output_type": "stream",
     "text": [
      "25\n",
      "640\n"
     ]
    }
   ],
   "source": [
    "print(len(os.listdir(GRAY_TEST_DIR)))\n",
    "print(len(os.listdir(GRAY_TRAIN_DIR)))"
   ]
  },
  {
   "cell_type": "code",
   "execution_count": null,
   "metadata": {},
   "outputs": [],
   "source": []
  }
 ],
 "metadata": {
  "kernelspec": {
   "display_name": "Python [conda env:CVpy3] *",
   "language": "python",
   "name": "conda-env-CVpy3-py"
  },
  "language_info": {
   "codemirror_mode": {
    "name": "ipython",
    "version": 3
   },
   "file_extension": ".py",
   "mimetype": "text/x-python",
   "name": "python",
   "nbconvert_exporter": "python",
   "pygments_lexer": "ipython3",
   "version": "3.7.3"
  }
 },
 "nbformat": 4,
 "nbformat_minor": 2
}
