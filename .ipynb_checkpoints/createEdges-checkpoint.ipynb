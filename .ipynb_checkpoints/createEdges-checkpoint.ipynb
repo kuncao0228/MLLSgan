{
 "cells": [
  {
   "cell_type": "code",
   "execution_count": 1,
   "metadata": {},
   "outputs": [],
   "source": [
    "import cv2 as cv\n",
    "import numpy as np\n",
    "from matplotlib import pyplot as plt\n",
    "import os\n",
    "from os import listdir\n",
    "from os.path import isfile, join\n",
    "import time\n",
    "from PIL import Image"
   ]
  },
  {
   "cell_type": "code",
   "execution_count": 2,
   "metadata": {},
   "outputs": [],
   "source": [
    "class CropLayer(object):\n",
    "    def __init__(self, params, blobs):\n",
    "        self.xstart = 0\n",
    "        self.xend = 0\n",
    "        self.ystart = 0\n",
    "        self.yend = 0\n",
    "\n",
    "    # Our layer receives two inputs. We need to crop the first input blob\n",
    "    # to match a shape of the second one (keeping batch size and number of channels)\n",
    "    def getMemoryShapes(self, inputs):\n",
    "        inputShape, targetShape = inputs[0], inputs[1]\n",
    "        batchSize, numChannels = inputShape[0], inputShape[1]\n",
    "        height, width = targetShape[2], targetShape[3]\n",
    "\n",
    "        self.ystart = (inputShape[2] - targetShape[2]) // 2\n",
    "        self.xstart = (inputShape[3] - targetShape[3]) // 2\n",
    "        self.yend = self.ystart + height\n",
    "        self.xend = self.xstart + width\n",
    "\n",
    "        return [[batchSize, numChannels, height, width]]\n",
    "\n",
    "    def forward(self, inputs):\n",
    "        return [inputs[0][:,:,self.ystart:self.yend,self.xstart:self.xend]]"
   ]
  },
  {
   "cell_type": "code",
   "execution_count": 3,
   "metadata": {},
   "outputs": [],
   "source": [
    "cv.dnn_registerLayer('Crop', CropLayer)\n",
    "\n",
    "# Load the model.\n",
    "net = cv.dnn.readNet('deploy.prototxt', 'hed_pretrained_bsds.caffemodel')"
   ]
  },
  {
   "cell_type": "code",
   "execution_count": 7,
   "metadata": {},
   "outputs": [
    {
     "name": "stdout",
     "output_type": "stream",
     "text": [
      "1\n",
      "1\n",
      "1\n",
      "1\n",
      "1\n",
      "1\n"
     ]
    },
    {
     "ename": "error",
     "evalue": "OpenCV(4.1.0) /Users/travis/build/skvark/opencv-python/opencv/modules/dnn/misc/python/pyopencv_dnn.hpp:163: error: (-213:The function/feature is not implemented) Failed to call \"forward\" method in function 'forward'\n",
     "output_type": "error",
     "traceback": [
      "\u001b[0;31m---------------------------------------------------------------------------\u001b[0m",
      "\u001b[0;31merror\u001b[0m                                     Traceback (most recent call last)",
      "\u001b[0;32m<ipython-input-7-48381b1ca7b4>\u001b[0m in \u001b[0;36m<module>\u001b[0;34m\u001b[0m\n\u001b[1;32m     21\u001b[0m                                swapRB=False, crop=False)\n\u001b[1;32m     22\u001b[0m         \u001b[0mnet\u001b[0m\u001b[0;34m.\u001b[0m\u001b[0msetInput\u001b[0m\u001b[0;34m(\u001b[0m\u001b[0minp\u001b[0m\u001b[0;34m)\u001b[0m\u001b[0;34m\u001b[0m\u001b[0;34m\u001b[0m\u001b[0m\n\u001b[0;32m---> 23\u001b[0;31m         \u001b[0mout\u001b[0m \u001b[0;34m=\u001b[0m \u001b[0mnet\u001b[0m\u001b[0;34m.\u001b[0m\u001b[0mforward\u001b[0m\u001b[0;34m(\u001b[0m\u001b[0;34m)\u001b[0m\u001b[0;34m\u001b[0m\u001b[0;34m\u001b[0m\u001b[0m\n\u001b[0m\u001b[1;32m     24\u001b[0m         \u001b[0mout\u001b[0m \u001b[0;34m=\u001b[0m \u001b[0mout\u001b[0m\u001b[0;34m[\u001b[0m\u001b[0;36m0\u001b[0m\u001b[0;34m,\u001b[0m \u001b[0;36m0\u001b[0m\u001b[0;34m]\u001b[0m\u001b[0;34m\u001b[0m\u001b[0;34m\u001b[0m\u001b[0m\n\u001b[1;32m     25\u001b[0m         \u001b[0mout\u001b[0m \u001b[0;34m=\u001b[0m \u001b[0mcv\u001b[0m\u001b[0;34m.\u001b[0m\u001b[0mresize\u001b[0m\u001b[0;34m(\u001b[0m\u001b[0mout\u001b[0m\u001b[0;34m,\u001b[0m \u001b[0;34m(\u001b[0m\u001b[0mframe\u001b[0m\u001b[0;34m.\u001b[0m\u001b[0mshape\u001b[0m\u001b[0;34m[\u001b[0m\u001b[0;36m1\u001b[0m\u001b[0;34m]\u001b[0m\u001b[0;34m,\u001b[0m \u001b[0mframe\u001b[0m\u001b[0;34m.\u001b[0m\u001b[0mshape\u001b[0m\u001b[0;34m[\u001b[0m\u001b[0;36m0\u001b[0m\u001b[0;34m]\u001b[0m\u001b[0;34m)\u001b[0m\u001b[0;34m)\u001b[0m\u001b[0;34m\u001b[0m\u001b[0;34m\u001b[0m\u001b[0m\n",
      "\u001b[0;31merror\u001b[0m: OpenCV(4.1.0) /Users/travis/build/skvark/opencv-python/opencv/modules/dnn/misc/python/pyopencv_dnn.hpp:163: error: (-213:The function/feature is not implemented) Failed to call \"forward\" method in function 'forward'\n"
     ]
    }
   ],
   "source": [
    "mypath = 'data/birds/colored_birds'\n",
    "pathEdgeBirds = 'data/birds/edge_birds'\n",
    "if not os.path.exists(pathEdgeBirds):\n",
    "    os.makedirs(pathEdgeBirds)\n",
    "\n",
    "count = 1\n",
    "for birdfile in listdir(mypath):\n",
    "#     print(birdfile)\n",
    "    if birdfile.endswith('.jpg'):\n",
    "        savePath = 'data/birds/edge_birds/' + birdfile\n",
    "        imagePath = 'data/birds/colored_birds/' + birdfile\n",
    "#         script = 'python edge.py --input ' + imagePath + ' --savefile ' + savePath\n",
    "        \n",
    "        cap = cv.VideoCapture(imagePath)\n",
    "\n",
    "        hasFrame, frame = cap.read()\n",
    "\n",
    "\n",
    "        inp = cv.dnn.blobFromImage(frame, scalefactor=1.0, size=(500, 500),\n",
    "                               mean=(104.00698793, 116.66876762, 122.67891434),\n",
    "                               swapRB=False, crop=False)\n",
    "        net.setInput(inp)\n",
    "        out = net.forward()\n",
    "        out = out[0, 0]\n",
    "        out = cv.resize(out, (frame.shape[1], frame.shape[0]))\n",
    "        out = 255 * out\n",
    "        out = out.astype(np.uint8)\n",
    "        edges=cv.cvtColor(out,cv.COLOR_GRAY2BGR)\n",
    "#         con=np.concatenate((out,frame),axis=1)\n",
    "#         img = Image.fromarray(con, 'RGB')\n",
    "        \n",
    "        edges = Image.fromarray(edges, 'RGB')\n",
    "#         plt.imshow(edges)\n",
    "\n",
    "        edges.save(savePath)\n",
    "\n",
    "\n",
    "        print(count)\n",
    "        count += 1\n",
    "        \n",
    "        \n",
    "#         os.system(script)\n",
    "\n"
   ]
  },
  {
   "cell_type": "code",
   "execution_count": null,
   "metadata": {},
   "outputs": [],
   "source": []
  },
  {
   "cell_type": "code",
   "execution_count": null,
   "metadata": {},
   "outputs": [],
   "source": []
  }
 ],
 "metadata": {
  "kernelspec": {
   "display_name": "Python 3",
   "language": "python",
   "name": "python3"
  },
  "language_info": {
   "codemirror_mode": {
    "name": "ipython",
    "version": 3
   },
   "file_extension": ".py",
   "mimetype": "text/x-python",
   "name": "python",
   "nbconvert_exporter": "python",
   "pygments_lexer": "ipython3",
   "version": "3.7.3"
  }
 },
 "nbformat": 4,
 "nbformat_minor": 2
}
