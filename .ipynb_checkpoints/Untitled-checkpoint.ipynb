{
 "cells": [
  {
   "cell_type": "code",
   "execution_count": 14,
   "metadata": {},
   "outputs": [],
   "source": [
    "import pandas as pd\n",
    "import numpy as np\n",
    "from numpy import genfromtxt\n",
    "\n",
    "# "
   ]
  },
  {
   "cell_type": "code",
   "execution_count": null,
   "metadata": {},
   "outputs": [],
   "source": [
    "dataframe = pd.read_csv('images.txt', header=None)\n",
    "dataframe.columns = ['keyFile']\n",
    "dfList = dataframe['keyFile']\n",
    "\n",
    "\n",
    "\n",
    "fileList = []\n",
    "for keyFile in dfList:\n",
    "    string = keyFile.split(\" \")\n",
    "\n",
    "    fileName = keyFile.split(\".\")\n",
    "    fileList.append(fileName[1])\n",
    "    print(fileName[1])\n",
    "\n",
    "\n"
   ]
  },
  {
   "cell_type": "code",
   "execution_count": 28,
   "metadata": {},
   "outputs": [
    {
     "name": "stdout",
     "output_type": "stream",
     "text": [
      "580\n"
     ]
    }
   ],
   "source": [
    "import numpy as np\n",
    "import os\n",
    "from os import listdir\n",
    "from os.path import isfile, join\n",
    "\n",
    "count = 0\n",
    "pathGrayScale = 'data/birds/gray_birds'\n",
    "for species in listdir(pathGrayScale):\n",
    "    if not species.startswith('.'):\n",
    "        speciesPath = join(pathGrayScale,species)\n",
    "        for birdFile in listdir(speciesPath):\n",
    "            \n",
    "            if birdFile not in fileList:\n",
    "                count +=1\n",
    "\n",
    "print(count)\n",
    "\n"
   ]
  },
  {
   "cell_type": "code",
   "execution_count": null,
   "metadata": {},
   "outputs": [],
   "source": []
  }
 ],
 "metadata": {
  "kernelspec": {
   "display_name": "Python 3",
   "language": "python",
   "name": "python3"
  },
  "language_info": {
   "codemirror_mode": {
    "name": "ipython",
    "version": 3
   },
   "file_extension": ".py",
   "mimetype": "text/x-python",
   "name": "python",
   "nbconvert_exporter": "python",
   "pygments_lexer": "ipython3",
   "version": "3.7.3"
  }
 },
 "nbformat": 4,
 "nbformat_minor": 2
}
