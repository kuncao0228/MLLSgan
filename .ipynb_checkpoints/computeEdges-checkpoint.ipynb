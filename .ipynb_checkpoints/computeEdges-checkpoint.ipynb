{
 "cells": [
  {
   "cell_type": "code",
   "execution_count": 29,
   "metadata": {},
   "outputs": [
    {
     "name": "stdout",
     "output_type": "stream",
     "text": [
      "data_gray created\n",
      "data_gray/005.Crested_Auklet created\n",
      "data_gray/015.Lazuli_Bunting created\n",
      "data_gray/013.Bobolink created\n",
      "data_gray/010.Red_winged_Blackbird created\n",
      "data_gray/017.Cardinal created\n",
      "data_gray/004.Groove_billed_Ani created\n",
      "data_gray/006.Least_Auklet created\n",
      "data_gray/009.Brewer_Blackbird created\n",
      "data_gray/011.Rusty_Blackbird created\n",
      "data_gray/002.Laysan_Albatross created\n",
      "data_gray/014.Indigo_Bunting created\n",
      "data_gray/012.Yellow_headed_Blackbird created\n",
      "data_gray/019.Gray_Catbird created\n",
      "data_gray/016.Painted_Bunting created\n",
      "data_gray/001.Black_footed_Albatross created\n",
      "data_gray/008.Rhinoceros_Auklet created\n",
      "data_gray/003.Sooty_Albatross created\n",
      "data_gray/018.Spotted_Catbird created\n",
      "data_gray/007.Parakeet_Auklet created\n",
      "data_gray/020.Yellow_breasted_Chat created\n"
     ]
    }
   ],
   "source": [
    "import cv2\n",
    "import numpy as np\n",
    "from matplotlib import pyplot as plt\n",
    "import os\n",
    "from os import listdir\n",
    "from os.path import isfile, join\n",
    "\n",
    "mypath = 'data'\n",
    "pathGrayScale = 'data_gray'\n",
    "if not os.path.exists(pathGrayScale):\n",
    "    print(\"data_gray created\")\n",
    "    os.makedirs(pathGrayScale)\n",
    "\n",
    "for species in listdir(mypath):\n",
    "    if not species.startswith('.'):\n",
    "        speciesPath = join(mypath,species)\n",
    "        speciesPath_g = join(pathGrayScale,species)\n",
    "    \n",
    "        if not os.path.exists(speciesPath_g):\n",
    "            print(speciesPath_g + \" created\")\n",
    "            os.makedirs(speciesPath_g)\n",
    "\n",
    "        for birdFile in listdir(speciesPath):\n",
    "            fullBirdPath = join(speciesPath, birdFile)\n",
    "            fullBirdPath_g = join(speciesPath_g,\"gray_\" + birdFile)\n",
    "            img = cv2.imread(fullBirdPath)\n",
    "            grayImage = cv2.cvtColor(img, cv2.COLOR_BGR2GRAY)\n",
    "            print(fullBirdPath_g)\n",
    "            cv2.imwrite(fullBirdPath_g, grayImage)\n",
    "    \n",
    "\n",
    "\n"
   ]
  },
  {
   "cell_type": "code",
   "execution_count": null,
   "metadata": {},
   "outputs": [],
   "source": []
  }
 ],
 "metadata": {
  "kernelspec": {
   "display_name": "Python 3",
   "language": "python",
   "name": "python3"
  },
  "language_info": {
   "codemirror_mode": {
    "name": "ipython",
    "version": 3
   },
   "file_extension": ".py",
   "mimetype": "text/x-python",
   "name": "python",
   "nbconvert_exporter": "python",
   "pygments_lexer": "ipython3",
   "version": "3.7.3"
  }
 },
 "nbformat": 4,
 "nbformat_minor": 2
}
